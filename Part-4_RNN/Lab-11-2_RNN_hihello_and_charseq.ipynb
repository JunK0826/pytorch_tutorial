{
 "cells": [
  {
   "cell_type": "code",
   "execution_count": 1,
   "metadata": {},
   "outputs": [
    {
     "data": {
      "text/plain": [
       "<torch._C.Generator at 0x7f2e240f77d0>"
      ]
     },
     "execution_count": 1,
     "metadata": {},
     "output_type": "execute_result"
    }
   ],
   "source": [
    "import torch\n",
    "import torch.optim as optim\n",
    "import numpy as np\n",
    "# Random seed to make results deterministic and reproducible\n",
    "torch.manual_seed(0)"
   ]
  },
  {
   "cell_type": "code",
   "execution_count": 2,
   "metadata": {},
   "outputs": [],
   "source": [
    "sample = \" if you want you\""
   ]
  },
  {
   "cell_type": "code",
   "execution_count": 3,
   "metadata": {},
   "outputs": [
    {
     "data": {
      "text/plain": [
       "{'w': 0,\n",
       " 'f': 1,\n",
       " 'i': 2,\n",
       " 'o': 3,\n",
       " 'n': 4,\n",
       " 'u': 5,\n",
       " ' ': 6,\n",
       " 'a': 7,\n",
       " 't': 8,\n",
       " 'y': 9}"
      ]
     },
     "execution_count": 3,
     "metadata": {},
     "output_type": "execute_result"
    }
   ],
   "source": [
    "# make dictionary\n",
    "char_set = list(set(sample))\n",
    "char_dic = {c: i for i, c in enumerate(char_set)}\n",
    "char_dic"
   ]
  },
  {
   "cell_type": "code",
   "execution_count": 4,
   "metadata": {},
   "outputs": [
    {
     "name": "stdout",
     "output_type": "stream",
     "text": [
      "10\n"
     ]
    }
   ],
   "source": [
    "# hyper parameters\n",
    "dic_size = len(char_dic)\n",
    "hidden_size = len(char_dic)\n",
    "learning_rate = 0.1\n",
    "print(dic_size)"
   ]
  },
  {
   "cell_type": "code",
   "execution_count": 5,
   "metadata": {},
   "outputs": [
    {
     "name": "stdout",
     "output_type": "stream",
     "text": [
      "[6, 2, 1, 6, 9, 3, 5, 6, 0, 7, 4, 8, 6, 9, 3, 5] \n",
      "\n",
      "[[6, 2, 1, 6, 9, 3, 5, 6, 0, 7, 4, 8, 6, 9, 3]] \n",
      "\n",
      "[array([[0., 0., 0., 0., 0., 0., 1., 0., 0., 0.],\n",
      "       [0., 0., 1., 0., 0., 0., 0., 0., 0., 0.],\n",
      "       [0., 1., 0., 0., 0., 0., 0., 0., 0., 0.],\n",
      "       [0., 0., 0., 0., 0., 0., 1., 0., 0., 0.],\n",
      "       [0., 0., 0., 0., 0., 0., 0., 0., 0., 1.],\n",
      "       [0., 0., 0., 1., 0., 0., 0., 0., 0., 0.],\n",
      "       [0., 0., 0., 0., 0., 1., 0., 0., 0., 0.],\n",
      "       [0., 0., 0., 0., 0., 0., 1., 0., 0., 0.],\n",
      "       [1., 0., 0., 0., 0., 0., 0., 0., 0., 0.],\n",
      "       [0., 0., 0., 0., 0., 0., 0., 1., 0., 0.],\n",
      "       [0., 0., 0., 0., 1., 0., 0., 0., 0., 0.],\n",
      "       [0., 0., 0., 0., 0., 0., 0., 0., 1., 0.],\n",
      "       [0., 0., 0., 0., 0., 0., 1., 0., 0., 0.],\n",
      "       [0., 0., 0., 0., 0., 0., 0., 0., 0., 1.],\n",
      "       [0., 0., 0., 1., 0., 0., 0., 0., 0., 0.]])] \n",
      "\n"
     ]
    }
   ],
   "source": [
    "# data setting\n",
    "sample_idx = [char_dic[c] for c in sample]\n",
    "print(sample_idx,'\\n')\n",
    "x_data = [sample_idx[:-1]]\n",
    "print(x_data,'\\n')\n",
    "x_one_hot = [np.eye(dic_size)[x] for x in x_data]\n",
    "print(x_one_hot,'\\n')\n",
    "y_data = sample_idx[1:]\n"
   ]
  },
  {
   "cell_type": "code",
   "execution_count": 6,
   "metadata": {},
   "outputs": [],
   "source": [
    "# transform as torch tensor variable\n",
    "X = torch.FloatTensor(x_one_hot)\n",
    "Y = torch.LongTensor(y_data)"
   ]
  },
  {
   "cell_type": "code",
   "execution_count": 7,
   "metadata": {},
   "outputs": [],
   "source": [
    "# declare RNN\n",
    "rnn = torch.nn.RNN(dic_size, hidden_size, batch_first=True)"
   ]
  },
  {
   "cell_type": "code",
   "execution_count": 8,
   "metadata": {},
   "outputs": [],
   "source": [
    "# loss & optimizer setting\n",
    "criterion = torch.nn.CrossEntropyLoss()\n",
    "optimizer = optim.Adam(rnn.parameters(), learning_rate)"
   ]
  },
  {
   "cell_type": "code",
   "execution_count": 9,
   "metadata": {},
   "outputs": [
    {
     "name": "stdout",
     "output_type": "stream",
     "text": [
      "0 loss:  2.280575752258301 prediction:  [[5 8 5 7 8 5 7 7 5 0 7 7 5 8 7]] true Y:  [2, 1, 6, 9, 3, 5, 6, 0, 7, 4, 8, 6, 9, 3, 5] prediction str:  utuatuaauwaauta\n",
      "1 loss:  1.9261685609817505 prediction:  [[5 5 5 4 3 5 6 5 6 5 8 6 5 6 5]] true Y:  [2, 1, 6, 9, 3, 5, 6, 0, 7, 4, 8, 6, 9, 3, 5] prediction str:  uuunou u ut u u\n",
      "2 loss:  1.6970887184143066 prediction:  [[9 5 6 9 3 5 6 5 6 5 5 6 9 3 5]] true Y:  [2, 1, 6, 9, 3, 5, 6, 0, 7, 4, 8, 6, 9, 3, 5] prediction str:  yu you u uu you\n",
      "3 loss:  1.5739860534667969 prediction:  [[9 5 6 9 3 5 6 9 7 4 8 6 9 3 5]] true Y:  [2, 1, 6, 9, 3, 5, 6, 0, 7, 4, 8, 6, 9, 3, 5] prediction str:  yu you yant you\n",
      "4 loss:  1.4730743169784546 prediction:  [[9 1 6 9 3 5 6 9 7 4 8 6 9 3 5]] true Y:  [2, 1, 6, 9, 3, 5, 6, 0, 7, 4, 8, 6, 9, 3, 5] prediction str:  yf you yant you\n",
      "5 loss:  1.3526935577392578 prediction:  [[9 1 6 9 3 5 6 0 7 4 8 6 9 3 5]] true Y:  [2, 1, 6, 9, 3, 5, 6, 0, 7, 4, 8, 6, 9, 3, 5] prediction str:  yf you want you\n",
      "6 loss:  1.2678357362747192 prediction:  [[9 1 6 9 3 5 6 0 7 4 8 6 9 3 5]] true Y:  [2, 1, 6, 9, 3, 5, 6, 0, 7, 4, 8, 6, 9, 3, 5] prediction str:  yf you want you\n",
      "7 loss:  1.2040303945541382 prediction:  [[2 1 6 9 3 5 6 0 7 4 8 6 0 3 5]] true Y:  [2, 1, 6, 9, 3, 5, 6, 0, 7, 4, 8, 6, 9, 3, 5] prediction str:  if you want wou\n",
      "8 loss:  1.138558030128479 prediction:  [[2 1 6 0 3 5 6 0 7 4 8 6 0 3 5]] true Y:  [2, 1, 6, 9, 3, 5, 6, 0, 7, 4, 8, 6, 9, 3, 5] prediction str:  if wou want wou\n",
      "9 loss:  1.0784938335418701 prediction:  [[2 1 6 0 3 5 6 0 7 4 8 6 0 3 5]] true Y:  [2, 1, 6, 9, 3, 5, 6, 0, 7, 4, 8, 6, 9, 3, 5] prediction str:  if wou want wou\n",
      "10 loss:  1.0370417833328247 prediction:  [[2 1 6 0 3 5 6 0 7 4 8 6 9 3 5]] true Y:  [2, 1, 6, 9, 3, 5, 6, 0, 7, 4, 8, 6, 9, 3, 5] prediction str:  if wou want you\n",
      "11 loss:  1.0115264654159546 prediction:  [[2 1 6 0 3 5 6 0 7 4 8 6 9 3 5]] true Y:  [2, 1, 6, 9, 3, 5, 6, 0, 7, 4, 8, 6, 9, 3, 5] prediction str:  if wou want you\n",
      "12 loss:  0.9885606169700623 prediction:  [[2 1 6 9 3 5 6 0 7 4 8 6 9 3 5]] true Y:  [2, 1, 6, 9, 3, 5, 6, 0, 7, 4, 8, 6, 9, 3, 5] prediction str:  if you want you\n",
      "13 loss:  0.9690167903900146 prediction:  [[2 1 6 9 3 5 6 0 7 4 8 6 9 3 5]] true Y:  [2, 1, 6, 9, 3, 5, 6, 0, 7, 4, 8, 6, 9, 3, 5] prediction str:  if you want you\n",
      "14 loss:  0.9575280547142029 prediction:  [[2 1 6 9 3 5 6 0 7 4 8 6 9 3 5]] true Y:  [2, 1, 6, 9, 3, 5, 6, 0, 7, 4, 8, 6, 9, 3, 5] prediction str:  if you want you\n",
      "15 loss:  0.9462074041366577 prediction:  [[2 1 6 9 3 5 6 0 7 4 8 6 9 3 5]] true Y:  [2, 1, 6, 9, 3, 5, 6, 0, 7, 4, 8, 6, 9, 3, 5] prediction str:  if you want you\n",
      "16 loss:  0.9371394515037537 prediction:  [[2 1 6 9 3 5 6 0 7 4 8 6 9 3 5]] true Y:  [2, 1, 6, 9, 3, 5, 6, 0, 7, 4, 8, 6, 9, 3, 5] prediction str:  if you want you\n",
      "17 loss:  0.9308719038963318 prediction:  [[2 1 6 9 3 5 6 0 7 4 8 6 9 3 5]] true Y:  [2, 1, 6, 9, 3, 5, 6, 0, 7, 4, 8, 6, 9, 3, 5] prediction str:  if you want you\n",
      "18 loss:  0.9245092868804932 prediction:  [[2 1 6 9 3 5 6 0 7 4 8 6 9 3 5]] true Y:  [2, 1, 6, 9, 3, 5, 6, 0, 7, 4, 8, 6, 9, 3, 5] prediction str:  if you want you\n",
      "19 loss:  0.9163078665733337 prediction:  [[2 1 6 9 3 5 6 0 7 4 8 6 9 3 5]] true Y:  [2, 1, 6, 9, 3, 5, 6, 0, 7, 4, 8, 6, 9, 3, 5] prediction str:  if you want you\n",
      "20 loss:  0.9070560336112976 prediction:  [[2 1 6 9 3 5 6 0 7 4 8 6 9 3 5]] true Y:  [2, 1, 6, 9, 3, 5, 6, 0, 7, 4, 8, 6, 9, 3, 5] prediction str:  if you want you\n",
      "21 loss:  0.9008238315582275 prediction:  [[2 1 6 9 3 5 6 0 7 4 8 6 9 3 5]] true Y:  [2, 1, 6, 9, 3, 5, 6, 0, 7, 4, 8, 6, 9, 3, 5] prediction str:  if you want you\n",
      "22 loss:  0.8966466784477234 prediction:  [[2 1 6 9 3 5 6 0 7 4 8 6 9 3 5]] true Y:  [2, 1, 6, 9, 3, 5, 6, 0, 7, 4, 8, 6, 9, 3, 5] prediction str:  if you want you\n",
      "23 loss:  0.8910996913909912 prediction:  [[2 1 6 9 3 5 6 0 7 4 8 6 9 3 5]] true Y:  [2, 1, 6, 9, 3, 5, 6, 0, 7, 4, 8, 6, 9, 3, 5] prediction str:  if you want you\n",
      "24 loss:  0.8876358270645142 prediction:  [[2 1 6 9 3 5 6 0 7 4 8 6 9 3 5]] true Y:  [2, 1, 6, 9, 3, 5, 6, 0, 7, 4, 8, 6, 9, 3, 5] prediction str:  if you want you\n",
      "25 loss:  0.8847910165786743 prediction:  [[2 1 6 9 3 5 6 0 7 4 8 6 9 3 5]] true Y:  [2, 1, 6, 9, 3, 5, 6, 0, 7, 4, 8, 6, 9, 3, 5] prediction str:  if you want you\n",
      "26 loss:  0.880641758441925 prediction:  [[2 1 6 9 3 5 6 0 7 4 8 6 9 3 5]] true Y:  [2, 1, 6, 9, 3, 5, 6, 0, 7, 4, 8, 6, 9, 3, 5] prediction str:  if you want you\n",
      "27 loss:  0.8762199878692627 prediction:  [[2 1 6 9 3 5 6 0 7 4 8 6 9 3 5]] true Y:  [2, 1, 6, 9, 3, 5, 6, 0, 7, 4, 8, 6, 9, 3, 5] prediction str:  if you want you\n",
      "28 loss:  0.8727802634239197 prediction:  [[2 1 6 9 3 5 6 0 7 4 8 6 9 3 5]] true Y:  [2, 1, 6, 9, 3, 5, 6, 0, 7, 4, 8, 6, 9, 3, 5] prediction str:  if you want you\n",
      "29 loss:  0.8679923415184021 prediction:  [[2 1 6 9 3 5 6 0 7 4 8 6 9 3 5]] true Y:  [2, 1, 6, 9, 3, 5, 6, 0, 7, 4, 8, 6, 9, 3, 5] prediction str:  if you want you\n",
      "30 loss:  0.8631851077079773 prediction:  [[2 1 6 9 3 5 6 0 7 4 8 6 9 3 5]] true Y:  [2, 1, 6, 9, 3, 5, 6, 0, 7, 4, 8, 6, 9, 3, 5] prediction str:  if you want you\n",
      "31 loss:  0.8591984510421753 prediction:  [[2 1 6 9 3 5 6 0 7 4 8 6 9 3 5]] true Y:  [2, 1, 6, 9, 3, 5, 6, 0, 7, 4, 8, 6, 9, 3, 5] prediction str:  if you want you\n",
      "32 loss:  0.855656087398529 prediction:  [[2 1 6 9 3 5 6 0 7 4 8 6 9 3 5]] true Y:  [2, 1, 6, 9, 3, 5, 6, 0, 7, 4, 8, 6, 9, 3, 5] prediction str:  if you want you\n",
      "33 loss:  0.8536034226417542 prediction:  [[2 1 6 9 3 5 6 0 7 4 8 6 9 3 5]] true Y:  [2, 1, 6, 9, 3, 5, 6, 0, 7, 4, 8, 6, 9, 3, 5] prediction str:  if you want you\n",
      "34 loss:  0.8513530492782593 prediction:  [[2 1 6 9 3 5 6 0 7 4 8 6 9 3 5]] true Y:  [2, 1, 6, 9, 3, 5, 6, 0, 7, 4, 8, 6, 9, 3, 5] prediction str:  if you want you\n",
      "35 loss:  0.848493754863739 prediction:  [[2 1 6 9 3 5 6 0 7 4 8 6 9 3 5]] true Y:  [2, 1, 6, 9, 3, 5, 6, 0, 7, 4, 8, 6, 9, 3, 5] prediction str:  if you want you\n",
      "36 loss:  0.8461380004882812 prediction:  [[2 1 6 9 3 5 6 0 7 4 8 6 9 3 5]] true Y:  [2, 1, 6, 9, 3, 5, 6, 0, 7, 4, 8, 6, 9, 3, 5] prediction str:  if you want you\n",
      "37 loss:  0.8446651101112366 prediction:  [[2 1 6 9 3 5 6 0 7 4 8 6 9 3 5]] true Y:  [2, 1, 6, 9, 3, 5, 6, 0, 7, 4, 8, 6, 9, 3, 5] prediction str:  if you want you\n",
      "38 loss:  0.843551516532898 prediction:  [[2 1 6 9 3 5 6 0 7 4 8 6 9 3 5]] true Y:  [2, 1, 6, 9, 3, 5, 6, 0, 7, 4, 8, 6, 9, 3, 5] prediction str:  if you want you\n",
      "39 loss:  0.8422204256057739 prediction:  [[2 1 6 9 3 5 6 0 7 4 8 6 9 3 5]] true Y:  [2, 1, 6, 9, 3, 5, 6, 0, 7, 4, 8, 6, 9, 3, 5] prediction str:  if you want you\n",
      "40 loss:  0.8407577872276306 prediction:  [[2 1 6 9 3 5 6 0 7 4 8 6 9 3 5]] true Y:  [2, 1, 6, 9, 3, 5, 6, 0, 7, 4, 8, 6, 9, 3, 5] prediction str:  if you want you\n",
      "41 loss:  0.8391948342323303 prediction:  [[2 1 6 9 3 5 6 0 7 4 8 6 9 3 5]] true Y:  [2, 1, 6, 9, 3, 5, 6, 0, 7, 4, 8, 6, 9, 3, 5] prediction str:  if you want you\n",
      "42 loss:  0.8375886082649231 prediction:  [[2 1 6 9 3 5 6 0 7 4 8 6 9 3 5]] true Y:  [2, 1, 6, 9, 3, 5, 6, 0, 7, 4, 8, 6, 9, 3, 5] prediction str:  if you want you\n",
      "43 loss:  0.836408257484436 prediction:  [[2 1 6 9 3 5 6 0 7 4 8 6 9 3 5]] true Y:  [2, 1, 6, 9, 3, 5, 6, 0, 7, 4, 8, 6, 9, 3, 5] prediction str:  if you want you\n",
      "44 loss:  0.8352623581886292 prediction:  [[2 1 6 9 3 5 6 0 7 4 8 6 9 3 5]] true Y:  [2, 1, 6, 9, 3, 5, 6, 0, 7, 4, 8, 6, 9, 3, 5] prediction str:  if you want you\n",
      "45 loss:  0.8337187170982361 prediction:  [[2 1 6 9 3 5 6 0 7 4 8 6 9 3 5]] true Y:  [2, 1, 6, 9, 3, 5, 6, 0, 7, 4, 8, 6, 9, 3, 5] prediction str:  if you want you\n",
      "46 loss:  0.8324986696243286 prediction:  [[2 1 6 9 3 5 6 0 7 4 8 6 9 3 5]] true Y:  [2, 1, 6, 9, 3, 5, 6, 0, 7, 4, 8, 6, 9, 3, 5] prediction str:  if you want you\n",
      "47 loss:  0.8314616084098816 prediction:  [[2 1 6 9 3 5 6 0 7 4 8 6 9 3 5]] true Y:  [2, 1, 6, 9, 3, 5, 6, 0, 7, 4, 8, 6, 9, 3, 5] prediction str:  if you want you\n",
      "48 loss:  0.8305541276931763 prediction:  [[2 1 6 9 3 5 6 0 7 4 8 6 9 3 5]] true Y:  [2, 1, 6, 9, 3, 5, 6, 0, 7, 4, 8, 6, 9, 3, 5] prediction str:  if you want you\n",
      "49 loss:  0.8299005031585693 prediction:  [[2 1 6 9 3 5 6 0 7 4 8 6 9 3 5]] true Y:  [2, 1, 6, 9, 3, 5, 6, 0, 7, 4, 8, 6, 9, 3, 5] prediction str:  if you want you\n"
     ]
    }
   ],
   "source": [
    "# start training\n",
    "for i in range(50):\n",
    "    optimizer.zero_grad()\n",
    "    outputs, _status = rnn(X)\n",
    "    loss = criterion(outputs.view(-1, dic_size), Y.view(-1))\n",
    "    loss.backward()\n",
    "    optimizer.step()\n",
    "\n",
    "    result = outputs.argmax(dim=2)\n",
    "    result_str = ''.join([char_set[c] for c in np.squeeze(result)])\n",
    "    print(i, \"loss: \", loss.item(), \"prediction: \", result, \"true Y: \", y_data, \"prediction str: \", result_str)"
   ]
  },
  {
   "cell_type": "code",
   "execution_count": null,
   "metadata": {},
   "outputs": [],
   "source": []
  }
 ],
 "metadata": {
  "interpreter": {
   "hash": "31f2aee4e71d21fbe5cf8b01ff0e069b9275f58929596ceb00d14d90e3e16cd6"
  },
  "kernelspec": {
   "display_name": "Python 3.8.10 64-bit",
   "language": "python",
   "name": "python3"
  },
  "language_info": {
   "codemirror_mode": {
    "name": "ipython",
    "version": 3
   },
   "file_extension": ".py",
   "mimetype": "text/x-python",
   "name": "python",
   "nbconvert_exporter": "python",
   "pygments_lexer": "ipython3",
   "version": "3.8.10"
  },
  "orig_nbformat": 4
 },
 "nbformat": 4,
 "nbformat_minor": 2
}
