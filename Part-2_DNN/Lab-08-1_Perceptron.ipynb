{
 "cells": [
  {
   "cell_type": "markdown",
   "metadata": {},
   "source": [
    "### * XOR"
   ]
  },
  {
   "cell_type": "code",
   "execution_count": 2,
   "metadata": {},
   "outputs": [
    {
     "name": "stdout",
     "output_type": "stream",
     "text": [
      "step: 0/1000, cost: 0.7673405408859253\n",
      "step: 100/1000, cost: 0.693147599697113\n",
      "step: 200/1000, cost: 0.6931471824645996\n",
      "step: 300/1000, cost: 0.6931471824645996\n",
      "step: 400/1000, cost: 0.6931471824645996\n",
      "step: 500/1000, cost: 0.6931471824645996\n",
      "step: 600/1000, cost: 0.6931471824645996\n",
      "step: 700/1000, cost: 0.6931471824645996\n",
      "step: 800/1000, cost: 0.6931471824645996\n",
      "step: 900/1000, cost: 0.6931471824645996\n"
     ]
    }
   ],
   "source": [
    "import torch \n",
    "\n",
    "x = torch.FloatTensor([[0, 0], [0, 1], [1, 0], [1, 1]])\n",
    "y = torch.FloatTensor([[0], [1], [1], [0]])\n",
    "\n",
    "linear = torch.nn.Linear(2, 1, bias=True)\n",
    "sigmoid = torch.nn.Sigmoid()\n",
    "model = torch.nn.Sequential(linear, sigmoid)\n",
    "\n",
    "criterion = torch.nn.BCELoss()\n",
    "optimizer = torch.optim.SGD(model.parameters(), lr = 1)\n",
    "\n",
    "for step in range(1000):\n",
    "    optimizer.zero_grad()\n",
    "    hypothesis = model(x)\n",
    "\n",
    "    cost = criterion(hypothesis, y)\n",
    "    cost.backward()\n",
    "    optimizer.step()\n",
    "    if step % 100 == 0:\n",
    "        print(f\"step: {step}/1000, cost: {cost.item()}\")"
   ]
  },
  {
   "cell_type": "code",
   "execution_count": null,
   "metadata": {},
   "outputs": [],
   "source": []
  }
 ],
 "metadata": {
  "interpreter": {
   "hash": "31f2aee4e71d21fbe5cf8b01ff0e069b9275f58929596ceb00d14d90e3e16cd6"
  },
  "kernelspec": {
   "display_name": "Python 3.8.10 64-bit",
   "language": "python",
   "name": "python3"
  },
  "language_info": {
   "codemirror_mode": {
    "name": "ipython",
    "version": 3
   },
   "file_extension": ".py",
   "mimetype": "text/x-python",
   "name": "python",
   "nbconvert_exporter": "python",
   "pygments_lexer": "ipython3",
   "version": "3.8.10"
  },
  "orig_nbformat": 4
 },
 "nbformat": 4,
 "nbformat_minor": 2
}
