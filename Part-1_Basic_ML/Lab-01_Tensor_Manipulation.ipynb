{
 "cells": [
  {
   "cell_type": "code",
   "execution_count": 3,
   "metadata": {},
   "outputs": [],
   "source": [
    "# package import\n",
    "import torch"
   ]
  },
  {
   "cell_type": "markdown",
   "metadata": {},
   "source": [
    "### * 1D Array with pytorch"
   ]
  },
  {
   "cell_type": "code",
   "execution_count": 47,
   "metadata": {},
   "outputs": [
    {
     "name": "stdout",
     "output_type": "stream",
     "text": [
      "* 1D Array with pytorch\n",
      "t: tensor([0., 1., 2., 3., 4., 5., 6.])\n",
      "t.dim(): \t 1\n",
      "t.size(): \t torch.Size([7])\n",
      "t[1:-1]: tensor([1., 2., 3., 4., 5.])\n"
     ]
    }
   ],
   "source": [
    "t = torch.FloatTensor([0., 1., 2., 3., 4., 5., 6.])\n",
    "print('* 1D Array with pytorch')\n",
    "print(f't: {t}')\n",
    "print(f't.dim(): \\t {t.dim()}')\n",
    "print(f't.size(): \\t {t.size()}')\n",
    "print(f't[1:-1]: {t[1:-1]}')\n"
   ]
  },
  {
   "cell_type": "markdown",
   "metadata": {},
   "source": [
    "### * 2D Array with pytorch"
   ]
  },
  {
   "cell_type": "code",
   "execution_count": 48,
   "metadata": {},
   "outputs": [
    {
     "name": "stdout",
     "output_type": "stream",
     "text": [
      "* 2D Array with pytorch\n",
      "t1: tensor([[1., 2.]])\n",
      "t2: tensor([[1.],\n",
      "        [2.]]) \n",
      "\n",
      "t: tensor([[ 1.,  2.,  3.],\n",
      "        [ 4.,  5.,  6.],\n",
      "        [ 7.,  8.,  9.],\n",
      "        [10., 11., 12.]])\n",
      "t.dim(): \t 2\n",
      "t.size(): \t torch.Size([4, 3])\n",
      "t[:,1]: tensor([ 2.,  5.,  8., 11.])\n",
      "t[:,1].size(): \t torch.Size([4])\n",
      "t[:, :-1]: tensor([[ 1.,  2.],\n",
      "        [ 4.,  5.],\n",
      "        [ 7.,  8.],\n",
      "        [10., 11.]])\n"
     ]
    }
   ],
   "source": [
    "print('* 2D Array with pytorch')\n",
    "t1 = torch.FloatTensor([[1,2]])\n",
    "t2 = torch.FloatTensor([[1],[2]])\n",
    "print(f't1: {t1}')\n",
    "print(f't2: {t2} \\n')\n",
    "\n",
    "t = torch.FloatTensor([[1., 2., 3.], [4., 5., 6.], [7., 8., 9.], [10., 11., 12.]])\n",
    "print(f't: {t}')\n",
    "print(f't.dim(): \\t {t.dim()}')\n",
    "print(f't.size(): \\t {t.size()}')\n",
    "print(f't[:,1]: {t[:,1]}')\n",
    "print(f't[:,1].size(): \\t {t[:,1].size()}')\n",
    "print(f't[:, :-1]: {t[:, :-1]}')"
   ]
  },
  {
   "cell_type": "markdown",
   "metadata": {},
   "source": [
    "### * Broadcasting"
   ]
  },
  {
   "cell_type": "code",
   "execution_count": 49,
   "metadata": {},
   "outputs": [
    {
     "name": "stdout",
     "output_type": "stream",
     "text": [
      "* Broadcasting\n",
      "** vector + vector (same shape)\n",
      "m1: tensor([[3., 3.]])\n",
      "m2: tensor([[2., 2.]])\n",
      "m1+m2: tensor([[5., 5.]]) \n",
      "\n",
      "** vector + scalar\n",
      "m1: tensor([[1., 2.]])\n",
      "m2: tensor([3.])\n",
      "m1+m2: tensor([[4., 5.]]) \n",
      "\n",
      "** vector + vector (different shape)\n",
      "m1: tensor([[1., 2.]])\n",
      "m2: tensor([[3.],\n",
      "        [4.]])\n",
      "m1+m2(): tensor([[4., 5.],\n",
      "        [5., 6.]]) \n",
      "\n"
     ]
    }
   ],
   "source": [
    "print('* Broadcasting')\n",
    "\n",
    "# same shape\n",
    "print('** vector + vector (same shape)')\n",
    "m1 = torch.FloatTensor([[3, 3]])\n",
    "m2 = torch.FloatTensor([[2, 2]])\n",
    "print(f'm1: {m1}')\n",
    "print(f'm2: {m2}')\n",
    "print(f'm1+m2: {m1+m2} \\n')\n",
    "\n",
    "# vector + scalar\n",
    "print('** vector + scalar')\n",
    "m1 = torch.FloatTensor([[1,2]])\n",
    "m2 = torch.FloatTensor([3]) # 3 -> [[3,3]]\n",
    "print(f'm1: {m1}')\n",
    "print(f'm2: {m2}')\n",
    "print(f'm1+m2: {m1+m2} \\n')\n",
    "\n",
    "# vector + vector (different shape)\n",
    "print('** vector + vector (different shape)')\n",
    "m1 = torch.FloatTensor([[1,2]])\n",
    "m2 = torch.FloatTensor([[3],[4]])\n",
    "print(f'm1: {m1}')\n",
    "print(f'm2: {m2}')\n",
    "print(f'm1+m2(): {m1+m2} \\n')"
   ]
  },
  {
   "cell_type": "code",
   "execution_count": 51,
   "metadata": {},
   "outputs": [
    {
     "name": "stdout",
     "output_type": "stream",
     "text": [
      "** vector * vector\n",
      "m1: tensor([[1., 2.],\n",
      "        [3., 4.]])\n",
      "m2: tensor([[1.],\n",
      "        [2.]]) \n",
      "\n",
      "*** matrix multification (m1.matmul(m2)) \n",
      " tensor([[ 5.],\n",
      "        [11.]]) \n",
      "\n",
      "*** element wise multification (m1 * m2) \n",
      " tensor([[1., 2.],\n",
      "        [6., 8.]]) \n",
      "\n",
      "*** element wise multification (m1.mul(m2)) \n",
      " tensor([[1., 2.],\n",
      "        [6., 8.]]) \n",
      "\n"
     ]
    }
   ],
   "source": [
    "# vector * vector\n",
    "print('** vector * vector')\n",
    "m1 = torch.FloatTensor([[1, 2], [3, 4]])\n",
    "m2 = torch.FloatTensor([[1], [2]])\n",
    "print(f'm1: {m1}')\n",
    "print(f'm2: {m2} \\n')\n",
    "print(f'*** matrix multification (m1.matmul(m2)) \\n {m1.matmul(m2)} \\n')\n",
    "print(f'*** element wise multification (m1 * m2) \\n {m1 * m2} \\n')\n",
    "print(f'*** element wise multification (m1.mul(m2)) \\n {m1.mul(m2)} \\n')"
   ]
  },
  {
   "cell_type": "markdown",
   "metadata": {},
   "source": [
    "### * mean"
   ]
  },
  {
   "cell_type": "code",
   "execution_count": 55,
   "metadata": {},
   "outputs": [
    {
     "name": "stdout",
     "output_type": "stream",
     "text": [
      "* mean (sum)\n",
      "** 1D array mean()\n",
      "t: tensor([1., 2.])\n",
      "t.mean(): \t 1.5 \n",
      "\n",
      "** 2D array mean()\n",
      "t: tensor([[1., 2.],\n",
      "        [3., 4.]])\n",
      "t.mean(): \t 2.5\n",
      "t.mean(dim=0): \t tensor([2., 3.])\n",
      "t.mean(dim=1): \t tensor([1.5000, 3.5000])\n",
      "t.mean(dim=-1): \t tensor([1.5000, 3.5000])\n"
     ]
    }
   ],
   "source": [
    "print('* mean (sum)')\n",
    "\n",
    "t = torch.FloatTensor([1, 2])\n",
    "print('** 1D array mean()')\n",
    "print(f't: {t}')\n",
    "print(f't.mean(): \\t {t.mean()} \\n')\n",
    "\n",
    "print('** 2D array mean()')\n",
    "t = torch.FloatTensor([[1, 2], [3, 4]])\n",
    "print(f't: {t}')\n",
    "print(f't.mean(): \\t {t.mean()}')\n",
    "print(f't.mean(dim=0): \\t {t.mean(dim=0)}')\n",
    "print(f't.mean(dim=1): \\t {t.mean(dim=1)}')\n",
    "print(f't.mean(dim=-1): \\t {t.mean(dim=-1)}')\n"
   ]
  },
  {
   "cell_type": "markdown",
   "metadata": {},
   "source": [
    "### * max, argmax"
   ]
  },
  {
   "cell_type": "code",
   "execution_count": 61,
   "metadata": {},
   "outputs": [
    {
     "name": "stdout",
     "output_type": "stream",
     "text": [
      "* max, argmax\n",
      "t: tensor([[3., 2.],\n",
      "        [1., 4.]])\n",
      "t.max(): \t 4.0 \n",
      "\n",
      "t.max(dim=0): \n",
      " torch.return_types.max(\n",
      "values=tensor([3., 4.]),\n",
      "indices=tensor([0, 1])) \n",
      "\n",
      "t.max(dim=0)[0]: \t tensor([3., 4.])\n",
      "t.max(dim=0)[1]: \t tensor([0, 1]) \n",
      "\n",
      "t.max(dim=1): \n",
      " torch.return_types.max(\n",
      "values=tensor([3., 4.]),\n",
      "indices=tensor([0, 1]))\n"
     ]
    }
   ],
   "source": [
    "print('* max, argmax')\n",
    "\n",
    "t = torch.FloatTensor([[3, 2], [1, 4]])\n",
    "print(f't: {t}')\n",
    "print(f't.max(): \\t {t.max()} \\n')\n",
    "\n",
    "print(f't.max(dim=0): \\n {t.max(dim=0)} \\n')\n",
    "\n",
    "print(f't.max(dim=0)[0]: \\t {t.max(dim=0)[0]}')\n",
    "print(f't.max(dim=0)[1]: \\t {t.max(dim=0)[1]} \\n')\n",
    "\n",
    "print(f't.max(dim=1): \\n {t.max(dim=1)}')"
   ]
  },
  {
   "cell_type": "markdown",
   "metadata": {},
   "source": [
    "### * view (reshape)"
   ]
  },
  {
   "cell_type": "code",
   "execution_count": 65,
   "metadata": {},
   "outputs": [
    {
     "name": "stdout",
     "output_type": "stream",
     "text": [
      "* view (reshape)\n",
      "t: \n",
      " tensor([[[ 0.,  1.,  2.],\n",
      "         [ 3.,  4.,  5.]],\n",
      "\n",
      "        [[ 6.,  7.,  8.],\n",
      "         [ 9., 10., 11.]]])\n",
      "t.size(): \t torch.Size([2, 2, 3]) \n",
      "\n",
      "t.view([-1, 3]): \n",
      " tensor([[ 0.,  1.,  2.],\n",
      "        [ 3.,  4.,  5.],\n",
      "        [ 6.,  7.,  8.],\n",
      "        [ 9., 10., 11.]])\n",
      "t.view([-1, 3]).size(): \t torch.Size([4, 3]) \n",
      "\n",
      "t.view([-1, 1, 3]): \n",
      " tensor([[[ 0.,  1.,  2.]],\n",
      "\n",
      "        [[ 3.,  4.,  5.]],\n",
      "\n",
      "        [[ 6.,  7.,  8.]],\n",
      "\n",
      "        [[ 9., 10., 11.]]])\n",
      "t.view([-1, 1, 3]).size(): \t torch.Size([4, 1, 3]) \n",
      "\n"
     ]
    }
   ],
   "source": [
    "import numpy as np\n",
    "print(f'* view (reshape)')\n",
    "\n",
    "t = np.array([[[0, 1, 2],\n",
    "               [3, 4, 5]],\n",
    "               \n",
    "              [[6, 7, 8],\n",
    "               [9, 10, 11]]])\n",
    "t = torch.FloatTensor(t)\n",
    "print(f't: \\n {t}')\n",
    "print(f't.size(): \\t {t.size()} \\n')\n",
    "\n",
    "print(f't.view([-1, 3]): \\n {t.view([-1, 3])}')\n",
    "print(f't.view([-1, 3]).size(): \\t {t.view([-1, 3]).size()} \\n')\n",
    "\n",
    "print(f't.view([-1, 1, 3]): \\n {t.view([-1, 1, 3])}')\n",
    "print(f't.view([-1, 1, 3]).size(): \\t {t.view([-1, 1, 3]).size()} \\n')"
   ]
  },
  {
   "cell_type": "markdown",
   "metadata": {},
   "source": [
    "### * squeeze"
   ]
  },
  {
   "cell_type": "code",
   "execution_count": 70,
   "metadata": {},
   "outputs": [
    {
     "name": "stdout",
     "output_type": "stream",
     "text": [
      "* squeeze\n",
      "t: \n",
      " tensor([[0.],\n",
      "        [1.],\n",
      "        [2.]])\n",
      "t.size(): \t torch.Size([3, 1]) \n",
      "\n",
      "t.squeeze(): tensor([0., 1., 2.])\n",
      "t.squeeze().size(): \t torch.Size([3])\n"
     ]
    }
   ],
   "source": [
    "print(f'* squeeze')\n",
    "\n",
    "t = torch.FloatTensor([[0], [1], [2]])\n",
    "print(f't: \\n {t}')\n",
    "print(f't.size(): \\t {t.size()} \\n')\n",
    "\n",
    "print(f't.squeeze(): {t.squeeze()}')\n",
    "print(f't.squeeze().size(): \\t {t.squeeze().size()}')"
   ]
  },
  {
   "cell_type": "markdown",
   "metadata": {},
   "source": [
    "### * unsqueeze"
   ]
  },
  {
   "cell_type": "code",
   "execution_count": 78,
   "metadata": {},
   "outputs": [
    {
     "name": "stdout",
     "output_type": "stream",
     "text": [
      "* unsqueeze\n",
      "t: tensor([0., 1., 2.])\n",
      "t.size(): torch.Size([3]) \n",
      "\n",
      "t.unsqueeze(0): tensor([[0., 1., 2.]])\n",
      "t.unsqueeze(0).size(): \t torch.Size([1, 3])\n",
      "t.view(1, -1): tensor([[0., 1., 2.]])\n",
      "t.view(1, -1).size(): \t torch.Size([1, 3]) \n",
      "\n",
      "t.unsqueeze(1): \n",
      " tensor([[0.],\n",
      "        [1.],\n",
      "        [2.]])\n",
      "t.unsqueeze(1).size(): \t torch.Size([3, 1])\n",
      "t.unsqueeze(-1): \n",
      " tensor([[0.],\n",
      "        [1.],\n",
      "        [2.]])\n",
      "t.unsqueeze(-1).size(): \t torch.Size([3, 1])\n"
     ]
    }
   ],
   "source": [
    "print('* unsqueeze')\n",
    "\n",
    "t = torch.Tensor([0, 1, 2])\n",
    "print(f't: {t}')\n",
    "print(f't.size(): {t.size()} \\n')\n",
    "\n",
    "print(f't.unsqueeze(0): {t.unsqueeze(0)}')\n",
    "print(f't.unsqueeze(0).size(): \\t {t.unsqueeze(0).size()}')\n",
    "print(f't.view(1, -1): {t.view(1, -1)}')\n",
    "print(f't.view(1, -1).size(): \\t {t.view(1, -1).size()} \\n')\n",
    "\n",
    "print(f't.unsqueeze(1): \\n {t.unsqueeze(1)}')\n",
    "print(f't.unsqueeze(1).size(): \\t {t.unsqueeze(1).size()}')\n",
    "print(f't.unsqueeze(-1): \\n {t.unsqueeze(-1)}')\n",
    "print(f't.unsqueeze(-1).size(): \\t {t.unsqueeze(-1).size()}')\n"
   ]
  },
  {
   "cell_type": "code",
   "execution_count": 80,
   "metadata": {},
   "outputs": [
    {
     "name": "stdout",
     "output_type": "stream",
     "text": [
      "t: tensor([[0., 1., 2.],\n",
      "        [3., 4., 5.]])\n",
      "t.size(): torch.Size([2, 3]) \n",
      "\n",
      "t.unsqueeze(0): \n",
      " tensor([[[0., 1., 2.],\n",
      "         [3., 4., 5.]]])\n",
      "t.unsqueeze(0).size(): \t torch.Size([1, 2, 3])\n",
      "t.view(1, -1): tensor([[0., 1., 2., 3., 4., 5.]])\n",
      "t.view(1, -1).size(): \t torch.Size([1, 6]) \n",
      "\n",
      "t.unsqueeze(1): \n",
      " tensor([[[0., 1., 2.]],\n",
      "\n",
      "        [[3., 4., 5.]]])\n",
      "t.unsqueeze(1).size(): \t torch.Size([2, 1, 3])\n",
      "t.unsqueeze(-1): \n",
      " tensor([[[0.],\n",
      "         [1.],\n",
      "         [2.]],\n",
      "\n",
      "        [[3.],\n",
      "         [4.],\n",
      "         [5.]]])\n",
      "t.unsqueeze(-1).size(): \t torch.Size([2, 3, 1])\n"
     ]
    }
   ],
   "source": [
    "t = torch.Tensor([[0, 1, 2],\n",
    "                  [3, 4, 5]])\n",
    "print(f't: {t}')\n",
    "print(f't.size(): {t.size()} \\n')\n",
    "\n",
    "print(f't.unsqueeze(0): \\n {t.unsqueeze(0)}')\n",
    "print(f't.unsqueeze(0).size(): \\t {t.unsqueeze(0).size()}')\n",
    "print(f't.view(1, -1): {t.view(1, -1)}')\n",
    "print(f't.view(1, -1).size(): \\t {t.view(1, -1).size()} \\n')\n",
    "\n",
    "print(f't.unsqueeze(1): \\n {t.unsqueeze(1)}')\n",
    "print(f't.unsqueeze(1).size(): \\t {t.unsqueeze(1).size()}')\n",
    "print(f't.unsqueeze(-1): \\n {t.unsqueeze(-1)}')\n",
    "print(f't.unsqueeze(-1).size(): \\t {t.unsqueeze(-1).size()}')"
   ]
  },
  {
   "cell_type": "markdown",
   "metadata": {},
   "source": [
    "### * type casting"
   ]
  },
  {
   "cell_type": "code",
   "execution_count": 85,
   "metadata": {},
   "outputs": [
    {
     "name": "stdout",
     "output_type": "stream",
     "text": [
      "* type casting\n",
      "lt: tensor([1, 2, 3, 4])\n",
      "lt.type(): torch.LongTensor\n",
      "lt.float(): tensor([1., 2., 3., 4.])\n",
      "lt.float().type(): torch.FloatTensor \n",
      "\n",
      "bt: tensor([1, 0, 0, 1], dtype=torch.uint8)\n",
      "bt.type(): torch.ByteTensor\n",
      "bt.long(): tensor([1, 0, 0, 1])\n",
      "bt.long().type(): tensor([1, 0, 0, 1])\n",
      "bt.float(): tensor([1., 0., 0., 1.])\n",
      "bt.float().type(): torch.FloatTensor \n",
      "\n"
     ]
    }
   ],
   "source": [
    "print('* type casting')\n",
    "\n",
    "lt = torch.LongTensor([1, 2, 3, 4])\n",
    "print(f'lt: {lt}')\n",
    "print(f'lt.type(): {lt.type()}')\n",
    "print(f'lt.float(): {lt.float()}')\n",
    "print(f'lt.float().type(): {lt.float().type()} \\n')\n",
    "\n",
    "bt = torch.ByteTensor([True, False, False, True])\n",
    "print(f'bt: {bt}')\n",
    "print(f'bt.type(): {bt.type()}')\n",
    "print(f'bt.long(): {bt.long()}')\n",
    "print(f'bt.long().type(): {bt.float().long()}')\n",
    "print(f'bt.float(): {bt.float()}')\n",
    "print(f'bt.float().type(): {bt.float().type()} \\n')\n"
   ]
  },
  {
   "cell_type": "markdown",
   "metadata": {},
   "source": [
    "### * scatter for one-hot"
   ]
  },
  {
   "cell_type": "code",
   "execution_count": 97,
   "metadata": {},
   "outputs": [
    {
     "name": "stdout",
     "output_type": "stream",
     "text": [
      "* scatter for one-hot\n",
      "t: \n",
      " tensor([[0],\n",
      "        [1],\n",
      "        [2],\n",
      "        [0]]) \n",
      "\n",
      "one_hot: \n",
      " tensor([[0., 0., 0.],\n",
      "        [0., 0., 0.],\n",
      "        [0., 0., 0.],\n",
      "        [0., 0., 0.]])\n",
      "one_hot.scatter_(1, t, 1): \n",
      " tensor([[1., 0., 0.],\n",
      "        [0., 1., 0.],\n",
      "        [0., 0., 1.],\n",
      "        [1., 0., 0.]])\n"
     ]
    }
   ],
   "source": [
    "print('* scatter for one-hot')\n",
    "\n",
    "t = torch.LongTensor([[0], [1], [2], [0]])\n",
    "print(f't: \\n {t} \\n')\n",
    "\n",
    "one_hot = torch.zeros(4, 3)\n",
    "print(f'one_hot: \\n {one_hot}')\n",
    "\n",
    "print(f'one_hot.scatter_(1, t, 1): \\n {one_hot.scatter_(1, t, 1)}')"
   ]
  },
  {
   "cell_type": "markdown",
   "metadata": {},
   "source": [
    "### * concatenate"
   ]
  },
  {
   "cell_type": "code",
   "execution_count": 87,
   "metadata": {},
   "outputs": [
    {
     "name": "stdout",
     "output_type": "stream",
     "text": [
      "* concatenate\n",
      "x: \n",
      " tensor([[1., 2.],\n",
      "        [3., 4.]])\n",
      "y: \n",
      " tensor([[5., 6.],\n",
      "        [7., 8.]]) \n",
      "\n",
      "torch.cat([x, y], dim=0: \n",
      " tensor([[1., 2.],\n",
      "        [3., 4.],\n",
      "        [5., 6.],\n",
      "        [7., 8.]])\n",
      "torch.cat([x, y], dim=1: \n",
      " tensor([[1., 2., 5., 6.],\n",
      "        [3., 4., 7., 8.]])\n"
     ]
    }
   ],
   "source": [
    "print('* concatenate')\n",
    "x = torch.FloatTensor([[1, 2], [3, 4]])\n",
    "y = torch.FloatTensor([[5, 6], [7, 8]])\n",
    "print(f'x: \\n {x}')\n",
    "print(f'y: \\n {y} \\n')\n",
    "\n",
    "print(f'torch.cat([x, y], dim=0: \\n {torch.cat([x, y], dim=0)}')\n",
    "print(f'torch.cat([x, y], dim=1: \\n {torch.cat([x, y], dim=1)}')"
   ]
  },
  {
   "cell_type": "markdown",
   "metadata": {},
   "source": [
    "### * stacking"
   ]
  },
  {
   "cell_type": "code",
   "execution_count": 89,
   "metadata": {},
   "outputs": [
    {
     "name": "stdout",
     "output_type": "stream",
     "text": [
      "* stacking\n",
      "x: tensor([1., 4.])\n",
      "y: tensor([2., 5.])\n",
      "z: tensor([3., 6.]) \n",
      "\n",
      "torch.stack([x,y,z]): \n",
      " tensor([[1., 4.],\n",
      "        [2., 5.],\n",
      "        [3., 6.]])\n",
      "torch.stack([x,y,z], dim=-1): \n",
      " tensor([[1., 2., 3.],\n",
      "        [4., 5., 6.]]) \n",
      "\n",
      "torch.cat([x.unsqueeze(0), y.unsqueeze(0), z.unsqueeze(0)], dim=0): \n",
      " tensor([[1., 4.],\n",
      "        [2., 5.],\n",
      "        [3., 6.]])\n"
     ]
    }
   ],
   "source": [
    "print('* stacking')\n",
    "x = torch.FloatTensor([1, 4])\n",
    "y = torch.FloatTensor([2, 5])\n",
    "z = torch.FloatTensor([3, 6])\n",
    "\n",
    "print(f'x: {x}')\n",
    "print(f'y: {y}')\n",
    "print(f'z: {z} \\n')\n",
    "\n",
    "print(f'torch.stack([x,y,z]): \\n {torch.stack([x,y,z])}')\n",
    "print(f'torch.stack([x,y,z], dim=-1): \\n {torch.stack([x,y,z], dim=-1)} \\n')\n",
    "\n",
    "print(f'torch.cat([x.unsqueeze(0), y.unsqueeze(0), z.unsqueeze(0)], dim=0): \\n {torch.cat([x.unsqueeze(0), y.unsqueeze(0), z.unsqueeze(0)], dim=0)}')\n",
    "\n"
   ]
  },
  {
   "cell_type": "markdown",
   "metadata": {},
   "source": [
    "### * ones and zeros like"
   ]
  },
  {
   "cell_type": "code",
   "execution_count": 91,
   "metadata": {},
   "outputs": [
    {
     "name": "stdout",
     "output_type": "stream",
     "text": [
      "* ones and zeros like\n",
      "x: \n",
      " tensor([[0., 1., 2.],\n",
      "        [2., 1., 0.]])\n",
      "torch.ones_like(x): \n",
      " tensor([[1., 1., 1.],\n",
      "        [1., 1., 1.]])\n",
      "torch.zeros_like(x): \n",
      " tensor([[0., 0., 0.],\n",
      "        [0., 0., 0.]])\n"
     ]
    }
   ],
   "source": [
    "print('* ones and zeros like')\n",
    "x = torch.FloatTensor([[0, 1, 2], [2, 1, 0]])\n",
    "print(f'x: \\n {x}')\n",
    "print(f'torch.ones_like(x): \\n {torch.ones_like(x)}')\n",
    "print(f'torch.zeros_like(x): \\n {torch.zeros_like(x)}')"
   ]
  },
  {
   "cell_type": "markdown",
   "metadata": {},
   "source": [
    "### * zip"
   ]
  },
  {
   "cell_type": "code",
   "execution_count": 99,
   "metadata": {},
   "outputs": [
    {
     "name": "stdout",
     "output_type": "stream",
     "text": [
      "* zip\n",
      "1 4\n",
      "2 5\n",
      "3 6\n"
     ]
    }
   ],
   "source": [
    "print('* zip')\n",
    "for i, j in zip([1, 2, 3], [4, 5, 6]):\n",
    "    print(i,j)"
   ]
  },
  {
   "cell_type": "code",
   "execution_count": null,
   "metadata": {},
   "outputs": [],
   "source": []
  }
 ],
 "metadata": {
  "interpreter": {
   "hash": "916dbcbb3f70747c44a77c7bcd40155683ae19c65e1c03b4aa3499c5328201f1"
  },
  "kernelspec": {
   "display_name": "Python 3.8.10 64-bit",
   "language": "python",
   "name": "python3"
  },
  "language_info": {
   "codemirror_mode": {
    "name": "ipython",
    "version": 3
   },
   "file_extension": ".py",
   "mimetype": "text/x-python",
   "name": "python",
   "nbconvert_exporter": "python",
   "pygments_lexer": "ipython3",
   "version": "3.8.10"
  },
  "orig_nbformat": 4
 },
 "nbformat": 4,
 "nbformat_minor": 2
}
