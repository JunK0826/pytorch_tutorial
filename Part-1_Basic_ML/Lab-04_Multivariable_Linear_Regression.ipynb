{
 "cells": [
  {
   "cell_type": "code",
   "execution_count": 19,
   "metadata": {},
   "outputs": [
    {
     "name": "stdout",
     "output_type": "stream",
     "text": [
      "epoch: 5/20, cost: 287.93609619140625\n",
      "epoch: 10/20, cost: 2.493121385574341\n",
      "epoch: 15/20, cost: 1.625923752784729\n",
      "epoch: 20/20, cost: 1.6197574138641357\n"
     ]
    }
   ],
   "source": [
    "# method 1.\n",
    "import torch\n",
    "from torch import optim\n",
    "torch.manual_seed(1)\n",
    "\n",
    "x_train = torch.FloatTensor([[73, 80, 75],\n",
    "                             [93, 88, 93],\n",
    "                             [89, 91, 90],\n",
    "                             [96, 98, 100],\n",
    "                             [73, 66, 70]])\n",
    "\n",
    "y_train = torch.FloatTensor([[152], [185], [180], [196], [142]])\n",
    "\n",
    "W = torch.zeros((3,1), requires_grad=True)\n",
    "b = torch.zeros(1, requires_grad=True)\n",
    "\n",
    "optimizer = optim.SGD([W, b], lr = 1e-5)\n",
    "\n",
    "nb_epochs = 20\n",
    "for epoch in range(1, nb_epochs+1):\n",
    "    hypothesis = x_train.matmul(W) + b\n",
    "    cost = torch.mean((hypothesis - y_train) ** 2)\n",
    "\n",
    "    optimizer.zero_grad()\n",
    "    cost.backward()\n",
    "    optimizer.step()\n",
    "\n",
    "    if epoch % 5 == 0:\n",
    "        print(f'epoch: {epoch}/{nb_epochs}, cost: {cost.item()}')\n"
   ]
  },
  {
   "cell_type": "code",
   "execution_count": 20,
   "metadata": {},
   "outputs": [
    {
     "name": "stdout",
     "output_type": "stream",
     "text": [
      "epoch: 5/20, cost: 341.32733154296875\n",
      "epoch: 10/20, cost: 5.450966835021973\n",
      "epoch: 15/20, cost: 4.285316467285156\n",
      "epoch: 20/20, cost: 4.267842769622803\n"
     ]
    }
   ],
   "source": [
    "# method 2.\n",
    "import torch.nn as nn\n",
    "import torch.nn.functional as F\n",
    "import torch\n",
    "from torch import optim\n",
    "\n",
    "x_train = torch.FloatTensor([[73, 80, 75],\n",
    "                             [93, 88, 93],\n",
    "                             [89, 91, 80],\n",
    "                             [96, 98, 100],\n",
    "                             [73, 66, 70]])\n",
    "\n",
    "y_train = torch.FloatTensor([[152], [185], [180], [196], [142]])\n",
    "\n",
    "class MultivariateLinearRegression(nn.Module):\n",
    "    def __init__(self):\n",
    "        super().__init__()\n",
    "        self.linear = nn.Linear(3,1)\n",
    "\n",
    "    def forward(self, x):\n",
    "        return self.linear(x)\n",
    "\n",
    "model = MultivariateLinearRegression()\n",
    "optimizer = optim.SGD(model.parameters(), lr = 1e-5)\n",
    "\n",
    "nb_epochs = 20\n",
    "for epoch in range(1, nb_epochs+1):\n",
    "    hypothesis = model(x_train)\n",
    "    cost = F.mse_loss(hypothesis, y_train)\n",
    "\n",
    "    optimizer.zero_grad()\n",
    "    cost.backward()\n",
    "    optimizer.step()\n",
    "\n",
    "    if epoch % 5 == 0:\n",
    "        print(f'epoch: {epoch}/{nb_epochs}, cost: {cost.item()}')\n"
   ]
  },
  {
   "cell_type": "markdown",
   "metadata": {},
   "source": [
    "### loading data"
   ]
  },
  {
   "cell_type": "code",
   "execution_count": 21,
   "metadata": {},
   "outputs": [
    {
     "name": "stdout",
     "output_type": "stream",
     "text": [
      "epoch: 5/20, Cost: 512.54248046875\n",
      "epoch: 10/20, Cost: 15.178759574890137\n",
      "epoch: 15/20, Cost: 11.720850944519043\n",
      "epoch: 20/20, Cost: 11.675379753112793\n"
     ]
    }
   ],
   "source": [
    "# mothod 1. \n",
    "import numpy as np\n",
    "data_path = 'https://raw.githubusercontent.com/deeplearningzerotoall/PyTorch/0e11245870a7d7cffba10726ea2a6dbf456e3e96/data-01-test-score.csv'\n",
    "data = np.loadtxt(data_path, delimiter=',', dtype=np.float32)\n",
    "\n",
    "x_train = torch.FloatTensor(data[:, 0:-1])\n",
    "y_train = torch.FloatTensor(data[:, [-1]])\n",
    "\n",
    "W = torch.zeros((3, 1), requires_grad=True)\n",
    "b = torch.zeros(1, requires_grad=True)\n",
    "\n",
    "optimizer = optim.SGD([W, b], lr=1e-5)\n",
    "\n",
    "nb_epochs = 20\n",
    "for epoch in range(1, nb_epochs + 1):\n",
    "    \n",
    "    hypothesis = x_train.matmul(W) + b \n",
    "\n",
    "    cost = torch.mean((hypothesis - y_train) ** 2)\n",
    "\n",
    "    optimizer.zero_grad()\n",
    "    cost.backward()\n",
    "    optimizer.step()\n",
    "    if epoch % 5 == 0:\n",
    "        print(f'epoch: {epoch}/{nb_epochs}, Cost: {cost.item()}')"
   ]
  },
  {
   "cell_type": "code",
   "execution_count": 23,
   "metadata": {},
   "outputs": [
    {
     "name": "stdout",
     "output_type": "stream",
     "text": [
      "epoch: 0/20, Cost: 35661.04296875\n",
      "epoch: 5/20, Cost: 264.6313171386719\n",
      "epoch: 10/20, Cost: 20.027307510375977\n",
      "epoch: 15/20, Cost: 18.284652709960938\n",
      "epoch: 20/20, Cost: 18.220138549804688\n"
     ]
    }
   ],
   "source": [
    "# method 2.\n",
    "class MultivariateLinearRegressionModel(nn.Module):\n",
    "    def __init__(self):\n",
    "        super().__init__()\n",
    "        self.linear = nn.Linear(3, 1)\n",
    "\n",
    "    def forward(self, x):\n",
    "        return self.linear(x)\n",
    "\n",
    "model = MultivariateLinearRegressionModel()\n",
    "\n",
    "optimizer = optim.SGD(model.parameters(), lr=1e-5)\n",
    "\n",
    "nb_epochs = 20\n",
    "for epoch in range(nb_epochs+1):\n",
    "    prediction = model(x_train)\n",
    "    \n",
    "    cost = F.mse_loss(prediction, y_train)\n",
    "    \n",
    "    optimizer.zero_grad()\n",
    "    cost.backward()\n",
    "    optimizer.step()\n",
    "    \n",
    "    if epoch % 5 == 0:\n",
    "        print(f'epoch: {epoch}/{nb_epochs}, Cost: {cost.item()}')"
   ]
  },
  {
   "cell_type": "markdown",
   "metadata": {},
   "source": [
    "### * dataloader"
   ]
  },
  {
   "cell_type": "code",
   "execution_count": 25,
   "metadata": {},
   "outputs": [
    {
     "name": "stdout",
     "output_type": "stream",
     "text": [
      "epoch: 5/20, batch: 1/3, Cost: 19.340656280517578\n",
      "epoch: 5/20, batch: 2/3, Cost: 7.596536636352539\n",
      "epoch: 5/20, batch: 3/3, Cost: 19.99455451965332\n",
      "epoch: 10/20, batch: 1/3, Cost: 13.715991020202637\n",
      "epoch: 10/20, batch: 2/3, Cost: 23.608280181884766\n",
      "epoch: 10/20, batch: 3/3, Cost: 16.798166275024414\n",
      "epoch: 15/20, batch: 1/3, Cost: 8.14443588256836\n",
      "epoch: 15/20, batch: 2/3, Cost: 31.173904418945312\n",
      "epoch: 15/20, batch: 3/3, Cost: 14.894658088684082\n",
      "epoch: 20/20, batch: 1/3, Cost: 8.468574523925781\n",
      "epoch: 20/20, batch: 2/3, Cost: 14.596077919006348\n",
      "epoch: 20/20, batch: 3/3, Cost: 38.11163330078125\n"
     ]
    }
   ],
   "source": [
    "from torch.utils.data import Dataset\n",
    "from torch.utils.data import DataLoader\n",
    "\n",
    "class MultivariateLinearRegressionModel(nn.Module):\n",
    "    def __init__(self):\n",
    "        super().__init__()\n",
    "        self.linear = nn.Linear(3, 1)\n",
    "\n",
    "    def forward(self, x):\n",
    "        return self.linear(x)\n",
    "\n",
    "class CustomDataset(Dataset):\n",
    "    def __init__(self):\n",
    "        self.x_data = [[73, 80, 75],\n",
    "                       [93, 88, 93],\n",
    "                       [89, 91, 80],\n",
    "                       [96, 98, 100],\n",
    "                       [73, 66, 70]]\n",
    "        self.y_data = [[152], [185], [180], [196], [142]]\n",
    "\n",
    "    def __len__(self):\n",
    "        return len(self.x_data)\n",
    "\n",
    "    def __getitem__(self, idx):\n",
    "        x = torch.FloatTensor(self.x_data[idx])\n",
    "        y = torch.FloatTensor(self.y_data[idx])\n",
    "        return x, y\n",
    "\n",
    "dataset = CustomDataset()\n",
    "dataloader = DataLoader(dataset, batch_size=2, shuffle=True,)\n",
    "\n",
    "nb_epochs = 20\n",
    "for epoch in range(1, nb_epochs+1):\n",
    "    for batch_idx, samples in enumerate(dataloader):\n",
    "        x_train, y_train = samples\n",
    "        prediction = model(x_train)\n",
    "        cost = F.mse_loss(prediction, y_train)\n",
    "\n",
    "        optimizer.zero_grad()\n",
    "        cost.backward()\n",
    "        optimizer.step()\n",
    "    \n",
    "        if epoch % 5 == 0:\n",
    "            print(f'epoch: {epoch}/{nb_epochs}, batch: {batch_idx+1}/{len(dataloader)}, Cost: {cost.item()}')\n"
   ]
  },
  {
   "cell_type": "code",
   "execution_count": null,
   "metadata": {},
   "outputs": [],
   "source": []
  }
 ],
 "metadata": {
  "interpreter": {
   "hash": "31f2aee4e71d21fbe5cf8b01ff0e069b9275f58929596ceb00d14d90e3e16cd6"
  },
  "kernelspec": {
   "display_name": "Python 3.8.10 64-bit",
   "language": "python",
   "name": "python3"
  },
  "language_info": {
   "codemirror_mode": {
    "name": "ipython",
    "version": 3
   },
   "file_extension": ".py",
   "mimetype": "text/x-python",
   "name": "python",
   "nbconvert_exporter": "python",
   "pygments_lexer": "ipython3",
   "version": "3.8.10"
  },
  "orig_nbformat": 4
 },
 "nbformat": 4,
 "nbformat_minor": 2
}
