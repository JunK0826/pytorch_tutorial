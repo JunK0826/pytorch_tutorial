{
 "cells": [
  {
   "cell_type": "code",
   "execution_count": 1,
   "metadata": {},
   "outputs": [
    {
     "name": "stdout",
     "output_type": "stream",
     "text": [
      "epoch: 1/10, W: 1.399999976158142, b: 0.0, Cost: 4.666666507720947\n",
      "epoch: 2/10, W: 0.8400000333786011, b: 0.0, Cost: 0.7466664910316467\n",
      "epoch: 3/10, W: 1.0640000104904175, b: 0.0, Cost: 0.11946665495634079\n",
      "epoch: 4/10, W: 0.9744000434875488, b: 0.0, Cost: 0.0191146582365036\n",
      "epoch: 5/10, W: 1.0102399587631226, b: 0.0, Cost: 0.00305833644233644\n",
      "epoch: 6/10, W: 0.9959040284156799, b: 0.0, Cost: 0.0004893290461041033\n",
      "epoch: 7/10, W: 1.001638412475586, b: 0.0, Cost: 7.829209789633751e-05\n",
      "epoch: 8/10, W: 0.9993446469306946, b: 0.0, Cost: 1.2527179023891222e-05\n",
      "epoch: 9/10, W: 1.0002621412277222, b: 0.0, Cost: 2.0041973129991675e-06\n",
      "epoch: 10/10, W: 0.9998951554298401, b: 0.0, Cost: 3.206215808404522e-07\n"
     ]
    }
   ],
   "source": [
    "# method 1.\n",
    "import torch\n",
    "from torch import optim\n",
    "\n",
    "x_train = torch.FloatTensor([[1], [2], [3]])\n",
    "y_train = torch.FloatTensor([[1], [2], [3]])\n",
    "\n",
    "W = torch.zeros(1, requires_grad=True)\n",
    "b = torch.zeros(1, requires_grad=True)\n",
    "lr = 0.1\n",
    "\n",
    "np_epochs = 10\n",
    "for epoch in range(1, np_epochs+1):\n",
    "    hypothesis = x_train * W\n",
    "\n",
    "    cost = torch.mean((hypothesis - y_train) ** 2)\n",
    "\n",
    "    # method 1.\n",
    "    gradient = torch.sum((W * x_train - y_train) * x_train)\n",
    "\n",
    "    # method 1.\n",
    "    W = W - (lr * gradient)\n",
    "    \n",
    "    print(f'epoch: {epoch}/{np_epochs}, W: {W.item()}, b: {b.item()}, Cost: {cost.item()}')"
   ]
  },
  {
   "cell_type": "code",
   "execution_count": 2,
   "metadata": {},
   "outputs": [
    {
     "name": "stdout",
     "output_type": "stream",
     "text": [
      "epoch: 1/10, W: 0.9333333969116211, b: 0.0, Cost: 4.666666507720947\n",
      "epoch: 2/10, W: 0.995555579662323, b: 0.0, Cost: 0.020740700885653496\n",
      "epoch: 3/10, W: 0.9997037053108215, b: 0.0, Cost: 9.218059858540073e-05\n",
      "epoch: 4/10, W: 0.9999802112579346, b: 0.0, Cost: 4.096538930298266e-07\n",
      "epoch: 5/10, W: 0.9999986886978149, b: 0.0, Cost: 1.8274400881423958e-09\n",
      "epoch: 6/10, W: 0.9999998807907104, b: 0.0, Cost: 7.716494110354688e-12\n",
      "epoch: 7/10, W: 1.0, b: 0.0, Cost: 9.947598300641403e-14\n",
      "epoch: 8/10, W: 1.0, b: 0.0, Cost: 0.0\n",
      "epoch: 9/10, W: 1.0, b: 0.0, Cost: 0.0\n",
      "epoch: 10/10, W: 1.0, b: 0.0, Cost: 0.0\n"
     ]
    }
   ],
   "source": [
    "# method 2.\n",
    "import torch\n",
    "from torch import optim\n",
    "\n",
    "x_train = torch.FloatTensor([[1], [2], [3]])\n",
    "y_train = torch.FloatTensor([[1], [2], [3]])\n",
    "\n",
    "W = torch.zeros(1, requires_grad=True)\n",
    "b = torch.zeros(1, requires_grad=True)\n",
    "lr = 0.1\n",
    "\n",
    "# method 2.\n",
    "optimizer = optim.SGD([W, b], lr=lr)\n",
    "\n",
    "np_epochs = 10\n",
    "for epoch in range(1, np_epochs+1):\n",
    "    hypothesis = x_train * W\n",
    "\n",
    "    cost = torch.mean((hypothesis - y_train) ** 2)\n",
    "    \n",
    "    # method 2.\n",
    "    optimizer.zero_grad()\n",
    "    \n",
    "    # method 2.\n",
    "    cost.backward()\n",
    "    \n",
    "    # method 2.\n",
    "    optimizer.step()\n",
    "\n",
    "    print(f'epoch: {epoch}/{np_epochs}, W: {W.item()}, b: {b.item()}, Cost: {cost.item()}')"
   ]
  },
  {
   "cell_type": "code",
   "execution_count": 3,
   "metadata": {},
   "outputs": [
    {
     "name": "stdout",
     "output_type": "stream",
     "text": [
      "epoch: 1/10, W: 1.0, b: 0.0, Cost: 2.1880264282226562\n",
      "epoch: 2/10, W: 1.0, b: 0.0, Cost: 0.20368196070194244\n",
      "epoch: 3/10, W: 1.0, b: 0.0, Cost: 0.1715450882911682\n",
      "epoch: 4/10, W: 1.0, b: 0.0, Cost: 0.16312825679779053\n",
      "epoch: 5/10, W: 1.0, b: 0.0, Cost: 0.15537630021572113\n",
      "epoch: 6/10, W: 1.0, b: 0.0, Cost: 0.14799578487873077\n",
      "epoch: 7/10, W: 1.0, b: 0.0, Cost: 0.14096589386463165\n",
      "epoch: 8/10, W: 1.0, b: 0.0, Cost: 0.13426995277404785\n",
      "epoch: 9/10, W: 1.0, b: 0.0, Cost: 0.12789197266101837\n",
      "epoch: 10/10, W: 1.0, b: 0.0, Cost: 0.12181701511144638\n"
     ]
    }
   ],
   "source": [
    "# method 3.\n",
    "import torch\n",
    "from torch import optim\n",
    "\n",
    "import torch.nn as nn # method 3.\n",
    "import torch.nn.functional as F # method 3.\n",
    "\n",
    "\n",
    "# method 3.\n",
    "class LinearRegressionModel(nn.Module):\n",
    "    def __init__(self):\n",
    "        super().__init__()\n",
    "        self.linear = nn.Linear(1, 1)\n",
    "\n",
    "    def forward(self, x):\n",
    "        return self.linear(x)\n",
    "\n",
    "x_train = torch.FloatTensor([[1], [2], [3]])\n",
    "y_train = torch.FloatTensor([[1], [2], [3]])\n",
    "\n",
    "# method 3.\n",
    "model = LinearRegressionModel()\n",
    "\n",
    "lr = 0.1\n",
    "optimizer = optim.SGD(model.parameters(), lr=lr) # method 3.\n",
    "\n",
    "nb_epochs = 10\n",
    "for epoch in range(1, nb_epochs + 1):\n",
    "    # method 3.\n",
    "    hypothesis = model(x_train)\n",
    "\n",
    "    # method 3.\n",
    "    cost = F.mse_loss(hypothesis, y_train)\n",
    "    \n",
    "    optimizer.zero_grad()\n",
    "    cost.backward()\n",
    "    optimizer.step()\n",
    "    \n",
    "    print(f'epoch: {epoch}/{nb_epochs}, W: {W.item()}, b: {b.item()}, Cost: {cost.item()}')"
   ]
  },
  {
   "cell_type": "code",
   "execution_count": null,
   "metadata": {},
   "outputs": [],
   "source": []
  }
 ],
 "metadata": {
  "interpreter": {
   "hash": "31f2aee4e71d21fbe5cf8b01ff0e069b9275f58929596ceb00d14d90e3e16cd6"
  },
  "kernelspec": {
   "display_name": "Python 3.8.10 64-bit",
   "language": "python",
   "name": "python3"
  },
  "language_info": {
   "codemirror_mode": {
    "name": "ipython",
    "version": 3
   },
   "file_extension": ".py",
   "mimetype": "text/x-python",
   "name": "python",
   "nbconvert_exporter": "python",
   "pygments_lexer": "ipython3",
   "version": "3.8.10"
  },
  "orig_nbformat": 4
 },
 "nbformat": 4,
 "nbformat_minor": 2
}
