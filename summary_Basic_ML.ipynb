{
 "cells": [
  {
   "cell_type": "markdown",
   "metadata": {},
   "source": [
    "# (summary)Lab-1_Basic_ML"
   ]
  },
  {
   "cell_type": "markdown",
   "metadata": {},
   "source": [
    "## Lab01-Tensor_Manipulation"
   ]
  },
  {
   "cell_type": "markdown",
   "metadata": {},
   "source": [
    "### 1. 1D, 2D Array with pytorch"
   ]
  },
  {
   "cell_type": "code",
   "execution_count": 4,
   "metadata": {},
   "outputs": [
    {
     "name": "stdout",
     "output_type": "stream",
     "text": [
      "1\n",
      "torch.Size([3])\n",
      "2\n",
      "torch.Size([2, 3])\n"
     ]
    }
   ],
   "source": [
    "\"\"\"\n",
    "\"define 1D, 2D\"\n",
    "1D == [], 2D+ == ()\n",
    "\n",
    "\"torch.Tensor == torch.FloatTensor\"\n",
    "torch.Tensor([1, 2]) == [1, 2]\n",
    "torch.Tensor([[1, 2]]) == (1, 2)\n",
    "torch.Tensor([[1], [2]]) == (1,\n",
    "                             2)\n",
    "torth.Tensor([[1, 2, 3],  ==  (1, 2, 3,\n",
    "              [4, 5, 6]])      4, 5, 6)\n",
    "\n",
    "\"tensor.dim(), tensor.size()\"\n",
    "t.dim() == dimension(1D == 1, 2D == 2, 3D == 3, ...)\n",
    "t.size() == t.shape == size of tensor(1D == [3], 2D == [1, 3], 3D == [1, 1, 3], ...)\n",
    "\"\"\"\n",
    "\n",
    "# 1D Array with Pytorch\n",
    "import torch\n",
    "t = torch.Tensor([1, 2, 3]) # [1, 2, 3]\n",
    "print(t.dim()) # t.dim() == 1 \n",
    "print(t.size()) # t.size() == [3]\n",
    "\n",
    "# 2D Array with pytorch\n",
    "t = torch.Tensor([[1, 2, 3],\n",
    "                  [4, 5, 6]])\n",
    "print(t.dim()) # t.dim() == 2\n",
    "print(t.size()) # t.size() == [2, 3]"
   ]
  },
  {
   "cell_type": "markdown",
   "metadata": {},
   "source": [
    "### 2. Broadcasting"
   ]
  },
  {
   "cell_type": "code",
   "execution_count": 3,
   "metadata": {},
   "outputs": [
    {
     "name": "stdout",
     "output_type": "stream",
     "text": [
      "tensor([[4., 5.],\n",
      "        [5., 6.]])\n",
      "tensor([[3., 6.],\n",
      "        [4., 8.]])\n",
      "tensor([[3., 6.],\n",
      "        [4., 8.]])\n",
      "tensor([[11.]])\n"
     ]
    }
   ],
   "source": [
    "\"\"\"\n",
    "m1 = (1, 2), m2 = (3,\n",
    "                   4)\n",
    "\n",
    "m1 + m2 == (1, 2  +  (3, 3  == (4, 5\n",
    "            1, 2)     4, 4)     5, 6)\n",
    "\n",
    "\"element wise multiplication\"\n",
    "m1 * m2 == (1, 2  *  (3, 3  == (3, 6\n",
    "            1, 2)     4, 4)     4, 8)\n",
    "\n",
    "\"matrix multiplication\"\n",
    "m1.matmul(m2) == 11\n",
    "\"\"\"\n",
    "import torch\n",
    "m1 = torch.Tensor([[1, 2]]) # (1, 2)\n",
    "m2 = torch.Tensor([[3], [4]]) # (3,\n",
    "                              #  4)\n",
    "\n",
    "print(m1+m2) # (4, 5\n",
    "             #  5, 6)\n",
    "print(m1*m2) # (3, 6\n",
    "             #  4, 8)\n",
    "print(m1.mul(m2)) # (3, 6\n",
    "                  #  4, 8)\n",
    "print(m1.matmul(m2)) # (11)"
   ]
  },
  {
   "cell_type": "markdown",
   "metadata": {},
   "source": [
    "### 3. mean(sum)"
   ]
  },
  {
   "cell_type": "code",
   "execution_count": 8,
   "metadata": {},
   "outputs": [
    {
     "name": "stdout",
     "output_type": "stream",
     "text": [
      "tensor(2.5000)\n",
      "tensor([2., 3.])\n",
      "tensor([1.5000, 3.5000])\n",
      "tensor(10.)\n",
      "tensor([4., 6.])\n",
      "tensor([3., 7.])\n"
     ]
    }
   ],
   "source": [
    "\"\"\"\n",
    "t = (1, 2\n",
    "     3, 4)\n",
    "\n",
    "t.mean() == (1+2+3+4)/4 == 2.5\n",
    "t.mean(dim=0) == [(1+3)/2, (2+4)/2] == [2, 3]\n",
    "t.mean(dim=1) == ((1+2)/2,  ==  (1.5,  ==> [1.5, 3.5]\n",
    "                  (3+4)/2)       3.5)\n",
    "\"\"\"\n",
    "import torch\n",
    "t = torch.Tensor([[1, 2], [3, 4]]) # (1, 2\n",
    "                                   #  3, 4)\n",
    "\n",
    "print(t.mean()) # 2.5\n",
    "print(t.mean(dim=0)) # [2, 3]\n",
    "print(t.mean(dim=1)) # [1.5, 3.5]\n",
    "\n",
    "print(t.sum()) # 10\n",
    "print(t.sum(dim=0)) # [4, 6]\n",
    "print(t.sum(dim=1)) # [3, 7]"
   ]
  },
  {
   "cell_type": "markdown",
   "metadata": {},
   "source": [
    "### 4. max, argmax"
   ]
  },
  {
   "cell_type": "code",
   "execution_count": 12,
   "metadata": {},
   "outputs": [
    {
     "name": "stdout",
     "output_type": "stream",
     "text": [
      "tensor(4.)\n",
      "torch.return_types.max(\n",
      "values=tensor([3., 4.]),\n",
      "indices=tensor([1, 1]))\n",
      "tensor([3., 4.])\n",
      "tensor([1, 1])\n",
      "torch.return_types.max(\n",
      "values=tensor([2., 4.]),\n",
      "indices=tensor([1, 1]))\n",
      "tensor([2., 4.])\n",
      "tensor([1, 1])\n"
     ]
    }
   ],
   "source": [
    "\"\"\"\n",
    "max == maximum value, argmax = maximum value's index\n",
    "t = (1, 2\n",
    "     3, 4)\n",
    "\n",
    "t.max() == max(1, 2, 3, 4) == 4\n",
    "\n",
    "t.max(dim=0) == (values=[3, 4], indices=[1, 1])\n",
    "t.max(dim=0)[0] == [max(1, 3), max(2, 4)] == [3, 4]\n",
    "t.max(dim=0)[1] == [argmax(1, 3), max(2, 4)] == [1, 1]\n",
    "\n",
    "t.max(dim=1) == (values=[2, 4], indices=[1, 1])\n",
    "t.max(dim=1)[0] == (max(1, 2),  ==  (2,  == [2, 4]\n",
    "                    max(3, 4))       4)\n",
    "t.max(dim=1)[1] == (argmax(1, 2),  ==  (1,  == [1, 1]\n",
    "                    argmax(3, 4))       1)                   \n",
    "\n",
    "\"\"\"\n",
    "import torch\n",
    "t = torch.Tensor([[1, 2], [3, 4]]) # (1, 2\n",
    "                                   #  3, 4)\n",
    "\n",
    "print(t.max()) # 4\n",
    "\n",
    "print(t.max(dim=0)) # (values=[3, 4], indices=[1, 1])\n",
    "print(t.max(dim=0)[0]) # [3, 4]\n",
    "print(t.max(dim=0)[1]) # [1, 1]\n",
    "\n",
    "print(t.max(dim=1)) # (values=[2, 4], indices=[1, 1])\n",
    "print(t.max(dim=1)[0]) # [2, 4]\n",
    "print(t.max(dim=1)[1]) # [1, 1]\n"
   ]
  },
  {
   "cell_type": "markdown",
   "metadata": {},
   "source": [
    "### 5. view"
   ]
  },
  {
   "cell_type": "code",
   "execution_count": 17,
   "metadata": {},
   "outputs": [
    {
     "name": "stdout",
     "output_type": "stream",
     "text": [
      "torch.Size([2, 2, 3])\n",
      "tensor([[ 0.,  1.,  2.],\n",
      "        [ 3.,  4.,  5.],\n",
      "        [ 6.,  7.,  8.],\n",
      "        [ 9., 10., 11.]])\n",
      "torch.Size([4, 3])\n",
      "tensor([[[ 0.,  1.,  2.]],\n",
      "\n",
      "        [[ 3.,  4.,  5.]],\n",
      "\n",
      "        [[ 6.,  7.,  8.]],\n",
      "\n",
      "        [[ 9., 10., 11.]]])\n",
      "torch.Size([4, 1, 3])\n"
     ]
    }
   ],
   "source": [
    "\"\"\"\n",
    "reshape tensor like np.reshape\n",
    "t = ( (0, 1, 2,  (6, 7, 8\n",
    "       3, 4, 5),  9, 10, 11) )\n",
    "t.shape == [2, 2, 3]\n",
    "\n",
    "t.view([-1, 3]) == (0, 1, 2,\n",
    "                    3, 4, 5,\n",
    "                    6, 7, 8,\n",
    "                    9, 10, 11)\n",
    "t.view([-1, 3]).shape == [4, 3]\n",
    "\n",
    "t.view([-1, 1, 3]) == ( (0, 1, 2), (3, 4, 5), (6, 7, 8), (9, 10, 11) )\n",
    "t.view([-1, 1, 3]).shape == [4, 1, 3]\n",
    "\"\"\"\n",
    "\n",
    "import torch\n",
    "t = torch.Tensor([[[0, 1, 2], [3, 4, 5]],  # ( (0, 1, 2,  (6, 7, 8\n",
    "                   [[6, 7, 8], [9, 10, 11]]]) # 3, 4, 5),  9, 10, 11) )\n",
    "\n",
    "print(t.shape) # [2, 2, 3]\n",
    "print(t.view([-1, 3])) # (0, 1, 2,\n",
    "                       #  3, 4, 5,\n",
    "                       #  6, 7, 8,\n",
    "                       #  9, 10, 11)\n",
    "print(t.view([-1, 3]).shape) # [4, 3]\n",
    "\n",
    "print(t.view([-1, 1, 3])) # ( (0, 1, 2), (3, 4, 5), (6, 7, 8), (9, 10, 11) )\n",
    "print(t.view([-1, 1, 3]).shape) # [4, 1, 3]\n"
   ]
  },
  {
   "cell_type": "markdown",
   "metadata": {},
   "source": [
    "### 6. squeeze, unsqueeze"
   ]
  },
  {
   "cell_type": "code",
   "execution_count": 19,
   "metadata": {},
   "outputs": [
    {
     "name": "stdout",
     "output_type": "stream",
     "text": [
      "torch.Size([2, 1])\n",
      "tensor([1., 2.])\n",
      "torch.Size([2])\n",
      "torch.Size([2])\n",
      "tensor([[1., 2.]])\n",
      "torch.Size([1, 2])\n",
      "tensor([[1.],\n",
      "        [2.]])\n",
      "torch.Size([2, 1])\n"
     ]
    }
   ],
   "source": [
    "\"\"\"\n",
    "\"squeeze\"\n",
    "t = (1,\n",
    "     2)\n",
    "t.shape == [2, 1]\n",
    "\n",
    "t.squeeze() == [1, 2]\n",
    "t.squeeze().shape == [2]\n",
    "\n",
    "\"unsqeeze\"\n",
    "t = [1, 2]\n",
    "t.shape == [2]\n",
    "\n",
    "t.unsqueeze(0) == (1, 2)\n",
    "t.unsqueeze(0).shape == [1, 2]\n",
    "t.unsqueeze(1) == (1,\n",
    "                   2)\n",
    "t.unsqueeze(1).shape == [2, 1]\n",
    "\"\"\"\n",
    "# squeeze\n",
    "import torch\n",
    "t = torch.Tensor([[1], [2]]) # (1,\n",
    "                             #  2)\n",
    "print(t.shape) # [2, 1]\n",
    "print(t.squeeze()) # [1, 2]\n",
    "print(t.squeeze().shape) # [2]\n",
    "\n",
    "# unsqueeze\n",
    "t = torch.Tensor([1, 2]) # [1, 2]\n",
    "print(t.shape) # [2]\n",
    "print(t.unsqueeze(0)) # (1, 2)\n",
    "print(t.unsqueeze(0).shape) # [1, 2]\n",
    "print(t.unsqueeze(1)) # (1,\n",
    "                      #  2)\n",
    "print(t.unsqueeze(1).shape) # [2, 1]"
   ]
  },
  {
   "cell_type": "markdown",
   "metadata": {},
   "source": [
    "### 7. type casting"
   ]
  },
  {
   "cell_type": "code",
   "execution_count": 21,
   "metadata": {},
   "outputs": [
    {
     "name": "stdout",
     "output_type": "stream",
     "text": [
      "torch.FloatTensor\n",
      "torch.LongTensor\n",
      "torch.ByteTensor\n"
     ]
    }
   ],
   "source": [
    "\"\"\"\n",
    "torch.Tensor == torch.FloatTensor\n",
    "\n",
    "t = torch.Tensor([1, 2])\n",
    "t.type() == torch.FloatTensor\n",
    "t.long().type() == torch.LongTensor\n",
    "t.byte().type() == torch.ByteTensor\n",
    "\"\"\"\n",
    "import torch\n",
    "t = torch.Tensor([1, 2])\n",
    "print(t.type()) # torch.FloatTensor\n",
    "print(t.long().type()) # torch.LongTensor\n",
    "print(t.byte().type()) # torch.ByteTensor"
   ]
  },
  {
   "cell_type": "markdown",
   "metadata": {},
   "source": [
    "### 8. concatenate, stacking"
   ]
  },
  {
   "cell_type": "code",
   "execution_count": 25,
   "metadata": {},
   "outputs": [
    {
     "name": "stdout",
     "output_type": "stream",
     "text": [
      "tensor([[ 1.,  2.],\n",
      "        [ 3.,  4.],\n",
      "        [ 5.,  6.],\n",
      "        [ 7.,  8.],\n",
      "        [ 9., 10.],\n",
      "        [11., 12.]])\n",
      "torch.Size([6, 2])\n",
      "tensor([[ 1.,  2.,  7.,  8.],\n",
      "        [ 3.,  4.,  9., 10.],\n",
      "        [ 5.,  6., 11., 12.]])\n",
      "torch.Size([3, 4])\n",
      "tensor([[[ 1.,  2.],\n",
      "         [ 3.,  4.],\n",
      "         [ 5.,  6.]],\n",
      "\n",
      "        [[ 7.,  8.],\n",
      "         [ 9., 10.],\n",
      "         [11., 12.]]])\n",
      "torch.Size([2, 3, 2])\n",
      "tensor([[[ 1.,  2.],\n",
      "         [ 7.,  8.]],\n",
      "\n",
      "        [[ 3.,  4.],\n",
      "         [ 9., 10.]],\n",
      "\n",
      "        [[ 5.,  6.],\n",
      "         [11., 12.]]])\n",
      "torch.Size([3, 2, 2])\n",
      "tensor([[[ 1.,  7.],\n",
      "         [ 2.,  8.]],\n",
      "\n",
      "        [[ 3.,  9.],\n",
      "         [ 4., 10.]],\n",
      "\n",
      "        [[ 5., 11.],\n",
      "         [ 6., 12.]]])\n"
     ]
    }
   ],
   "source": [
    "\"\"\"\n",
    "t1 = (1, 2,    t2 = (7, 8,\n",
    "      3, 4,            9, 10,\n",
    "      5, 6)            11, 12)\n",
    "\n",
    "\"concatenate\"\n",
    "torch.cat([t1, t2], dim=0) == (1, 2,\n",
    "                               3, 4,\n",
    "                               5, 6,\n",
    "                               7, 8,\n",
    "                               9, 10,\n",
    "                               11, 12)\n",
    "torch.cat([t1, t2], dim=0).shape == [6,2]\n",
    "torch.cat([t1, t2], dim=1) == (1, 2, 7, 8,\n",
    "                               3, 4, 9, 10,\n",
    "                               5, 6, 11, 12)\n",
    "torch.cat([t1, t2], dim=1).shape == [3, 4]\n",
    "\n",
    "\"stacking\"\n",
    "torch.stack([t1, t2], dim=0)) == ( (1, 2,  (7, 8,\n",
    "                                    3, 4,   9, 10,\n",
    "                                    5, 6),  11, 12) )\n",
    "torch.stack([t1, t2], dim=0)).shape == [2, 3, 2]\n",
    "torch.stack([t1, t2], dim=1)) == ( (1, 2,   (3, 4,   (5, 6\n",
    "                                    7, 8),  9, 10), 11, 12) )\n",
    "torch.stack([t1, t2], dim=0)).shape == [3, 2, 2]                              \n",
    "\"\"\"\n",
    "import torch\n",
    "t1 = torch.Tensor([[1, 2], [3, 4], [5, 6]]) # (1, 2,\n",
    "                                            #  3, 4,\n",
    "                                            #  5, 6)\n",
    "t2 = torch.Tensor([[7, 8], [9, 10], [11, 12]]) # (7, 8,\n",
    "                                               #  9, 10,\n",
    "                                               #  11, 12)\n",
    "\n",
    "print(torch.cat([t1, t2], dim=0)) # (1, 2,\n",
    "                                  #  3, 4,\n",
    "                                  #  5, 6,\n",
    "                                  #  7, 8,\n",
    "                                  #  9, 10,\n",
    "                                  #  11, 12)\n",
    "print(torch.cat([t1, t2], dim=0).shape) # [6, 2]\n",
    "print(torch.cat([t1, t2], dim=1)) # (1, 2, 7, 8\n",
    "                                  #  3, 4, 9, 10,\n",
    "                                  #  5, 6, 11, 12)\n",
    "print(torch.cat([t1, t2], dim=1).shape) # [3, 4]\n",
    "\n",
    "print(torch.stack([t1, t2], dim=0)) # ( (1, 2,  (7, 8,\n",
    "                                    #    3, 4,   9, 10,\n",
    "                                    #    5, 6),  11, 12) )\n",
    "print(torch.stack([t1, t2], dim=0).shape) # [2, 3, 2]\n",
    "print(torch.stack([t1, t2], dim=1)) # ( (1, 2,   (3, 4,   (5, 6\n",
    "                                    #    7, 8),  9, 10), 11, 12) )\n",
    "print(torch.stack([t1, t2], dim=1).shape) # [3, 2, 2]"
   ]
  },
  {
   "cell_type": "markdown",
   "metadata": {},
   "source": [
    "### 9. ones and zeros like"
   ]
  },
  {
   "cell_type": "code",
   "execution_count": 26,
   "metadata": {},
   "outputs": [
    {
     "name": "stdout",
     "output_type": "stream",
     "text": [
      "tensor([[1., 1.],\n",
      "        [1., 1.]])\n",
      "tensor([[0., 0.],\n",
      "        [0., 0.]])\n"
     ]
    }
   ],
   "source": [
    "\"\"\"\n",
    "t = (1, 2\n",
    "     3, 4)\n",
    "torch.ones_like(t) == (1, 1\n",
    "                       1, 1)\n",
    "torch.zeros_like(t) == (0, 0\n",
    "                        0, 0)\n",
    "\"\"\"\n",
    "import torch\n",
    "t = torch.Tensor([[1, 2], [3, 4]]) # (1, 2\n",
    "                                   #  3, 4)\n",
    "print(torch.ones_like(t)) # (1, 1\n",
    "                          #  1, 1)\n",
    "print(torch.zeros_like(t)) # (0, 0\n",
    "                           #  0, 0)\n"
   ]
  },
  {
   "cell_type": "markdown",
   "metadata": {},
   "source": [
    "### 10. zip"
   ]
  },
  {
   "cell_type": "code",
   "execution_count": 27,
   "metadata": {},
   "outputs": [
    {
     "name": "stdout",
     "output_type": "stream",
     "text": [
      "1 4\n",
      "2 5\n",
      "3 6\n"
     ]
    }
   ],
   "source": [
    "for i, j in zip([1, 2, 3], [4, 5, 6]):\n",
    "    print(i, j) # 1 4\n",
    "                # 2 5\n",
    "                # 3 6"
   ]
  },
  {
   "cell_type": "code",
   "execution_count": null,
   "metadata": {},
   "outputs": [],
   "source": []
  }
 ],
 "metadata": {
  "interpreter": {
   "hash": "31f2aee4e71d21fbe5cf8b01ff0e069b9275f58929596ceb00d14d90e3e16cd6"
  },
  "kernelspec": {
   "display_name": "Python 3.8.10 64-bit",
   "language": "python",
   "name": "python3"
  },
  "language_info": {
   "codemirror_mode": {
    "name": "ipython",
    "version": 3
   },
   "file_extension": ".py",
   "mimetype": "text/x-python",
   "name": "python",
   "nbconvert_exporter": "python",
   "pygments_lexer": "ipython3",
   "version": "3.8.10"
  },
  "orig_nbformat": 4
 },
 "nbformat": 4,
 "nbformat_minor": 2
}
