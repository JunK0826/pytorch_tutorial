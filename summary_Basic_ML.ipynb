{
 "cells": [
  {
   "cell_type": "markdown",
   "metadata": {},
   "source": [
    "# (summary)Lab-1_Basic_ML"
   ]
  },
  {
   "cell_type": "markdown",
   "metadata": {},
   "source": [
    "## Lab01-Tensor_Manipulation"
   ]
  },
  {
   "cell_type": "markdown",
   "metadata": {},
   "source": [
    "### * 1D, 2D Array with pytorch"
   ]
  },
  {
   "cell_type": "code",
   "execution_count": 4,
   "metadata": {},
   "outputs": [
    {
     "name": "stdout",
     "output_type": "stream",
     "text": [
      "1\n",
      "torch.Size([3])\n",
      "2\n",
      "torch.Size([2, 3])\n"
     ]
    }
   ],
   "source": [
    "\"\"\"\n",
    "\"define 1D, 2D\"\n",
    "1D == [], 2D+ == ()\n",
    "\n",
    "\"torch.Tensor == torch.FloatTensor\"\n",
    "torch.Tensor([1,2]) == [1,2]\n",
    "torch.Tensor([[1,2]]) == (1,2)\n",
    "torch.Tensor([[1],[2]]) == (1\n",
    "                            2)\n",
    "torth.Tensor([[1,2,3],      (1,2,3\n",
    "              [4,5,6]])  ==  4,5,6)\n",
    "\n",
    "\"tensor.dim(), tensor.size()\"\n",
    "t.dim() == dimension(1D == 1, 2D == 2, 3D == 3, ...)\n",
    "t.size() == t.shape == size of tensor(1D == [3], 2D == [1,3], 3D == [1,1,3], ...)\n",
    "\"\"\"\n",
    "\n",
    "# 1D Array with Pytorch\n",
    "import torch\n",
    "t = torch.Tensor([1,2,3]) # [1,2,3]\n",
    "print(t.dim()) # t.dim() == 1 \n",
    "print(t.size()) # t.size() == [3]\n",
    "\n",
    "# 2D Array with pytorch\n",
    "t = torch.Tensor([[1,2,3],\n",
    "                  [4,5,6]])\n",
    "print(t.dim()) # t.dim() == 2\n",
    "print(t.size()) # t.size() == [2,3]"
   ]
  },
  {
   "cell_type": "markdown",
   "metadata": {},
   "source": [
    "### * Broadcasting, mean(sum), max(argmax)"
   ]
  },
  {
   "cell_type": "code",
   "execution_count": null,
   "metadata": {},
   "outputs": [],
   "source": [
    "\"\"\"\n",
    "\"broadcasting with +, -\"\n",
    "m1 = (1, 2), m2 = (3,\n",
    "                   4)\n",
    "\n",
    "m1 + m2 == (1, 2  +  (3, 3  == (4, 5\n",
    "            1, 2)     4, 4)     5, 6)\n",
    "\n",
    "\n",
    "\"element wise multiplication vs matrix multiplication\"\n",
    "m1 = (1, 2  m2 = (1,\n",
    "      3, 4)       2)\n",
    "\n",
    "\"element wise multiplication\"\n",
    "m1 + m2 == (1, 2  +  (1, 1  == (1, 2\n",
    "            3, 4)     2, 2)     6, 8)\n",
    "\n",
    "\"matrix multiplication\"\n",
    "m1.matmul(m2) == (5,\n",
    "                  11)\n",
    "\"\"\"\n"
   ]
  },
  {
   "cell_type": "code",
   "execution_count": null,
   "metadata": {},
   "outputs": [],
   "source": []
  }
 ],
 "metadata": {
  "interpreter": {
   "hash": "31f2aee4e71d21fbe5cf8b01ff0e069b9275f58929596ceb00d14d90e3e16cd6"
  },
  "kernelspec": {
   "display_name": "Python 3.8.10 64-bit",
   "language": "python",
   "name": "python3"
  },
  "language_info": {
   "codemirror_mode": {
    "name": "ipython",
    "version": 3
   },
   "file_extension": ".py",
   "mimetype": "text/x-python",
   "name": "python",
   "nbconvert_exporter": "python",
   "pygments_lexer": "ipython3",
   "version": "3.8.10"
  },
  "orig_nbformat": 4
 },
 "nbformat": 4,
 "nbformat_minor": 2
}
